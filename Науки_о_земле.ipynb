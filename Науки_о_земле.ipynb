{
  "nbformat": 4,
  "nbformat_minor": 0,
  "metadata": {
    "accelerator": "GPU",
    "colab": {
      "name": "Науки о земле.ipynb",
      "provenance": [],
      "collapsed_sections": []
    },
    "kernelspec": {
      "display_name": "Python 3",
      "name": "python3"
    }
  },
  "cells": [
    {
      "cell_type": "code",
      "metadata": {
        "colab": {
          "base_uri": "https://localhost:8080/"
        },
        "id": "0Io9GSAulYOE",
        "outputId": "2fd0fa13-79d3-48cc-b3d6-6de732ce71cb"
      },
      "source": [
        "import tensorflow as tf\n",
        "import pandas as pd\n",
        "print(tf.__version__)"
      ],
      "execution_count": null,
      "outputs": [
        {
          "output_type": "stream",
          "text": [
            "2.4.1\n"
          ],
          "name": "stdout"
        }
      ]
    },
    {
      "cell_type": "code",
      "metadata": {
        "colab": {
          "base_uri": "https://localhost:8080/",
          "height": 734
        },
        "id": "JwFgktEclqXK",
        "outputId": "43cc0abe-66d4-4c65-b3d9-e71fc7310826"
      },
      "source": [
        "series = pd.read_excel('Kamchatka1.xlsx')\n",
        "series.head(10)"
      ],
      "execution_count": null,
      "outputs": [
        {
          "output_type": "execute_result",
          "data": {
            "text/html": [
              "<div>\n",
              "<style scoped>\n",
              "    .dataframe tbody tr th:only-of-type {\n",
              "        vertical-align: middle;\n",
              "    }\n",
              "\n",
              "    .dataframe tbody tr th {\n",
              "        vertical-align: top;\n",
              "    }\n",
              "\n",
              "    .dataframe thead th {\n",
              "        text-align: right;\n",
              "    }\n",
              "</style>\n",
              "<table border=\"1\" class=\"dataframe\">\n",
              "  <thead>\n",
              "    <tr style=\"text-align: right;\">\n",
              "      <th></th>\n",
              "      <th>Date</th>\n",
              "      <th>Час</th>\n",
              "      <th>Мин</th>\n",
              "      <th>Сек</th>\n",
              "      <th>Ошибка по времени</th>\n",
              "      <th>Широта</th>\n",
              "      <th>Ошибка по широте</th>\n",
              "      <th>Долгота</th>\n",
              "      <th>Ошибка по долготе</th>\n",
              "      <th>Глубина</th>\n",
              "      <th>Ошибка по глубине</th>\n",
              "      <th>Magnitude</th>\n",
              "      <th>Код сети</th>\n",
              "      <th>Сейсмический регион</th>\n",
              "      <th>Географический регион</th>\n",
              "      <th>Макросейсмические данные</th>\n",
              "    </tr>\n",
              "  </thead>\n",
              "  <tbody>\n",
              "    <tr>\n",
              "      <th>0</th>\n",
              "      <td>2003-01-01</td>\n",
              "      <td>1</td>\n",
              "      <td>33</td>\n",
              "      <td>22.1</td>\n",
              "      <td>1.2</td>\n",
              "      <td>52.80</td>\n",
              "      <td>0.01</td>\n",
              "      <td>160.18</td>\n",
              "      <td>0.01</td>\n",
              "      <td>34</td>\n",
              "      <td>3.0</td>\n",
              "      <td>4.8</td>\n",
              "      <td>KAGSR</td>\n",
              "      <td>Камчатка и Командорские острова</td>\n",
              "      <td>NaN</td>\n",
              "      <td>Ощущалось на мысе\\r\\nШипунский силой 2 балла.</td>\n",
              "    </tr>\n",
              "    <tr>\n",
              "      <th>1</th>\n",
              "      <td>2003-01-01</td>\n",
              "      <td>3</td>\n",
              "      <td>41</td>\n",
              "      <td>7.8</td>\n",
              "      <td>0.4</td>\n",
              "      <td>53.70</td>\n",
              "      <td>0.03</td>\n",
              "      <td>160.81</td>\n",
              "      <td>0.03</td>\n",
              "      <td>36</td>\n",
              "      <td>5.0</td>\n",
              "      <td>3.0</td>\n",
              "      <td>KAGSR</td>\n",
              "      <td>Камчатка и Командорские острова</td>\n",
              "      <td>NaN</td>\n",
              "      <td>NaN</td>\n",
              "    </tr>\n",
              "    <tr>\n",
              "      <th>2</th>\n",
              "      <td>2003-01-01</td>\n",
              "      <td>10</td>\n",
              "      <td>30</td>\n",
              "      <td>51.4</td>\n",
              "      <td>0.7</td>\n",
              "      <td>54.96</td>\n",
              "      <td>0.03</td>\n",
              "      <td>161.02</td>\n",
              "      <td>0.03</td>\n",
              "      <td>87</td>\n",
              "      <td>3.0</td>\n",
              "      <td>2.8</td>\n",
              "      <td>KAGSR</td>\n",
              "      <td>Камчатка и Командорские острова</td>\n",
              "      <td>NaN</td>\n",
              "      <td>NaN</td>\n",
              "    </tr>\n",
              "    <tr>\n",
              "      <th>3</th>\n",
              "      <td>2003-01-01</td>\n",
              "      <td>14</td>\n",
              "      <td>57</td>\n",
              "      <td>50.2</td>\n",
              "      <td>0.8</td>\n",
              "      <td>51.25</td>\n",
              "      <td>0.13</td>\n",
              "      <td>153.40</td>\n",
              "      <td>0.13</td>\n",
              "      <td>287</td>\n",
              "      <td>13.0</td>\n",
              "      <td>3.6</td>\n",
              "      <td>KAGSR</td>\n",
              "      <td>Камчатка и Командорские острова</td>\n",
              "      <td>NaN</td>\n",
              "      <td>NaN</td>\n",
              "    </tr>\n",
              "    <tr>\n",
              "      <th>4</th>\n",
              "      <td>2003-01-03</td>\n",
              "      <td>5</td>\n",
              "      <td>30</td>\n",
              "      <td>32.8</td>\n",
              "      <td>0.4</td>\n",
              "      <td>55.59</td>\n",
              "      <td>0.11</td>\n",
              "      <td>165.93</td>\n",
              "      <td>0.11</td>\n",
              "      <td>19</td>\n",
              "      <td>12.0</td>\n",
              "      <td>3.6</td>\n",
              "      <td>KAGSR</td>\n",
              "      <td>Камчатка и Командорские острова</td>\n",
              "      <td>NaN</td>\n",
              "      <td>NaN</td>\n",
              "    </tr>\n",
              "    <tr>\n",
              "      <th>5</th>\n",
              "      <td>2003-01-03</td>\n",
              "      <td>7</td>\n",
              "      <td>53</td>\n",
              "      <td>24.1</td>\n",
              "      <td>0.6</td>\n",
              "      <td>54.11</td>\n",
              "      <td>0.14</td>\n",
              "      <td>169.33</td>\n",
              "      <td>0.14</td>\n",
              "      <td>21</td>\n",
              "      <td>17.0</td>\n",
              "      <td>2.9</td>\n",
              "      <td>KAGSR</td>\n",
              "      <td>Камчатка и Командорские острова</td>\n",
              "      <td>NaN</td>\n",
              "      <td>NaN</td>\n",
              "    </tr>\n",
              "    <tr>\n",
              "      <th>6</th>\n",
              "      <td>2003-01-03</td>\n",
              "      <td>8</td>\n",
              "      <td>5</td>\n",
              "      <td>5.3</td>\n",
              "      <td>0.6</td>\n",
              "      <td>53.05</td>\n",
              "      <td>0.02</td>\n",
              "      <td>160.55</td>\n",
              "      <td>0.02</td>\n",
              "      <td>37</td>\n",
              "      <td>3.0</td>\n",
              "      <td>3.3</td>\n",
              "      <td>KAGSR</td>\n",
              "      <td>Камчатка и Командорские острова</td>\n",
              "      <td>NaN</td>\n",
              "      <td>NaN</td>\n",
              "    </tr>\n",
              "    <tr>\n",
              "      <th>7</th>\n",
              "      <td>2003-01-04</td>\n",
              "      <td>2</td>\n",
              "      <td>5</td>\n",
              "      <td>5.3</td>\n",
              "      <td>0.5</td>\n",
              "      <td>50.72</td>\n",
              "      <td>0.04</td>\n",
              "      <td>157.42</td>\n",
              "      <td>0.04</td>\n",
              "      <td>40</td>\n",
              "      <td>10.0</td>\n",
              "      <td>3.1</td>\n",
              "      <td>KAGSR</td>\n",
              "      <td>Камчатка и Командорские острова</td>\n",
              "      <td>NaN</td>\n",
              "      <td>NaN</td>\n",
              "    </tr>\n",
              "    <tr>\n",
              "      <th>8</th>\n",
              "      <td>2003-01-04</td>\n",
              "      <td>11</td>\n",
              "      <td>32</td>\n",
              "      <td>34.3</td>\n",
              "      <td>0.6</td>\n",
              "      <td>55.39</td>\n",
              "      <td>0.04</td>\n",
              "      <td>166.45</td>\n",
              "      <td>0.04</td>\n",
              "      <td>24</td>\n",
              "      <td>3.0</td>\n",
              "      <td>2.9</td>\n",
              "      <td>KAGSR</td>\n",
              "      <td>Камчатка и Командорские острова</td>\n",
              "      <td>NaN</td>\n",
              "      <td>NaN</td>\n",
              "    </tr>\n",
              "    <tr>\n",
              "      <th>9</th>\n",
              "      <td>2003-01-04</td>\n",
              "      <td>13</td>\n",
              "      <td>46</td>\n",
              "      <td>16.3</td>\n",
              "      <td>0.5</td>\n",
              "      <td>49.38</td>\n",
              "      <td>0.14</td>\n",
              "      <td>156.32</td>\n",
              "      <td>0.14</td>\n",
              "      <td>64</td>\n",
              "      <td>31.0</td>\n",
              "      <td>3.2</td>\n",
              "      <td>KAGSR</td>\n",
              "      <td>Камчатка и Командорские острова</td>\n",
              "      <td>NaN</td>\n",
              "      <td>NaN</td>\n",
              "    </tr>\n",
              "  </tbody>\n",
              "</table>\n",
              "</div>"
            ],
            "text/plain": [
              "        Date  ...                       Макросейсмические данные\n",
              "0 2003-01-01  ...  Ощущалось на мысе\\r\\nШипунский силой 2 балла.\n",
              "1 2003-01-01  ...                                            NaN\n",
              "2 2003-01-01  ...                                            NaN\n",
              "3 2003-01-01  ...                                            NaN\n",
              "4 2003-01-03  ...                                            NaN\n",
              "5 2003-01-03  ...                                            NaN\n",
              "6 2003-01-03  ...                                            NaN\n",
              "7 2003-01-04  ...                                            NaN\n",
              "8 2003-01-04  ...                                            NaN\n",
              "9 2003-01-04  ...                                            NaN\n",
              "\n",
              "[10 rows x 16 columns]"
            ]
          },
          "metadata": {
            "tags": []
          },
          "execution_count": 4
        }
      ]
    },
    {
      "cell_type": "code",
      "metadata": {
        "colab": {
          "base_uri": "https://localhost:8080/",
          "height": 264
        },
        "id": "pewYfUbPnrbb",
        "outputId": "9447f364-64e3-4574-9d37-00ab022e09ab"
      },
      "source": [
        "import pandas as pd\n",
        "import numpy as np\n",
        "import matplotlib.pyplot as plt\n",
        "import tensorflow as tf\n",
        "series = pd.read_excel('Kamchatka1.xlsx')\n",
        "\n",
        "time = np.array(range(0,len(series['Date'])))\n",
        "#time_1 = np.array(series['Date'])\n",
        "Magnitude = np.array(series['Magnitude'])\n",
        "#print(time)\n",
        "plt.plot(time[:100],Magnitude[:100])\n",
        "plt.show()"
      ],
      "execution_count": null,
      "outputs": [
        {
          "output_type": "display_data",
          "data": {
            "image/png": "[encoded data removed]",
            "text/plain": [
              "<Figure size 432x288 with 1 Axes>"
            ]
          },
          "metadata": {
            "tags": [],
            "needs_background": "light"
          }
        }
      ]
    },
    {
      "cell_type": "code",
      "metadata": {
        "colab": {
          "base_uri": "https://localhost:8080/",
          "height": 280
        },
        "id": "JMnrbvQThlAC",
        "outputId": "a9d3723c-4a11-4b68-b90d-541489434144"
      },
      "source": [
        "import matplotlib.dates as mdates\n",
        "#plt.gca().xaxis.set_major_formatter(mdates.DateFormatter('%Y-%m-%d'))\n",
        "#plt.gca().xaxis.set_major_locator(mdates.DayLocator(interval=15))\n",
        "plt.plot(time[:500],Magnitude[:500],label=\"Магнитуда\")\n",
        "plt.legend(loc=\"upper right\")\n",
        "plt.grid()\n",
        "plt.xlabel(\"Дата\")\n",
        "plt.ylabel(\"Значение\")\n",
        "plt.show()"
      ],
      "execution_count": null,
      "outputs": [
        {
          "output_type": "display_data",
          "data": {
            "image/png": "[encoded data removed]",
            "text/plain": [
              "<Figure size 432x288 with 1 Axes>"
            ]
          },
          "metadata": {
            "tags": [],
            "needs_background": "light"
          }
        }
      ]
    },
    {
      "cell_type": "code",
      "metadata": {
        "colab": {
          "base_uri": "https://localhost:8080/",
          "height": 264
        },
        "id": "sOjIvQSdmAjH",
        "outputId": "e6185c77-5144-4cf5-b05e-331fb127f6ca"
      },
      "source": [
        "#xaxis = np.array(range(5,10))\n",
        "#print(xaxis)\n",
        "#plt.bar(xaxis,series['Magnitude'])\n",
        "#series['Magnitude'].plot(kind=\"hist\",title = \"Магнитуда\")\n",
        "plt.hist(series['Magnitude'],label = \"Гистограмма\")\n",
        "plt.show()"
      ],
      "execution_count": null,
      "outputs": [
        {
          "output_type": "display_data",
          "data": {
            "image/png": "[encoded data removed]",
            "text/plain": [
              "<Figure size 432x288 with 1 Axes>"
            ]
          },
          "metadata": {
            "tags": [],
            "needs_background": "light"
          }
        }
      ]
    },
    {
      "cell_type": "code",
      "metadata": {
        "colab": {
          "base_uri": "https://localhost:8080/"
        },
        "id": "PGSU6YIabLEG",
        "outputId": "ed0c537e-ff80-4d0a-bc67-3197a7809be8"
      },
      "source": [
        "series['New'] = pd.to_datetime(series['Час']).astype(int) + pd.to_datetime(series['Мин']).astype(int) +pd.to_datetime(series['Сек']).astype(int)\n",
        "series['New']"
      ],
      "execution_count": null,
      "outputs": [
        {
          "output_type": "execute_result",
          "data": {
            "text/plain": [
              "0         56\n",
              "1         51\n",
              "2         91\n",
              "3        121\n",
              "4         67\n",
              "        ... \n",
              "53458    131\n",
              "53459     77\n",
              "53460     91\n",
              "53461     66\n",
              "53462     88\n",
              "Name: New, Length: 53463, dtype: int64"
            ]
          },
          "metadata": {
            "tags": []
          },
          "execution_count": 54
        }
      ]
    },
    {
      "cell_type": "code",
      "metadata": {
        "colab": {
          "base_uri": "https://localhost:8080/",
          "height": 1000
        },
        "id": "DCgY2xmAgpTL",
        "outputId": "61fc7332-a1ca-4ee5-997d-e64e2cc0c045"
      },
      "source": [
        "series.head(30)"
      ],
      "execution_count": null,
      "outputs": [
        {
          "output_type": "execute_result",
          "data": {
            "text/html": [
              "<div>\n",
              "<style scoped>\n",
              "    .dataframe tbody tr th:only-of-type {\n",
              "        vertical-align: middle;\n",
              "    }\n",
              "\n",
              "    .dataframe tbody tr th {\n",
              "        vertical-align: top;\n",
              "    }\n",
              "\n",
              "    .dataframe thead th {\n",
              "        text-align: right;\n",
              "    }\n",
              "</style>\n",
              "<table border=\"1\" class=\"dataframe\">\n",
              "  <thead>\n",
              "    <tr style=\"text-align: right;\">\n",
              "      <th></th>\n",
              "      <th>Date</th>\n",
              "      <th>Час</th>\n",
              "      <th>Мин</th>\n",
              "      <th>Сек</th>\n",
              "      <th>Ошибка по времени</th>\n",
              "      <th>Широта</th>\n",
              "      <th>Ошибка по широте</th>\n",
              "      <th>Долгота</th>\n",
              "      <th>Ошибка по долготе</th>\n",
              "      <th>Глубина</th>\n",
              "      <th>Ошибка по глубине</th>\n",
              "      <th>Magnitude</th>\n",
              "      <th>Код сети</th>\n",
              "      <th>Сейсмический регион</th>\n",
              "      <th>Географический регион</th>\n",
              "      <th>Макросейсмические данные</th>\n",
              "    </tr>\n",
              "  </thead>\n",
              "  <tbody>\n",
              "    <tr>\n",
              "      <th>0</th>\n",
              "      <td>2003-01-01</td>\n",
              "      <td>1</td>\n",
              "      <td>33</td>\n",
              "      <td>22.1</td>\n",
              "      <td>1.2</td>\n",
              "      <td>52.80</td>\n",
              "      <td>0.01</td>\n",
              "      <td>160.18</td>\n",
              "      <td>0.01</td>\n",
              "      <td>34</td>\n",
              "      <td>3.0</td>\n",
              "      <td>4.8</td>\n",
              "      <td>KAGSR</td>\n",
              "      <td>Камчатка и Командорские острова</td>\n",
              "      <td>NaN</td>\n",
              "      <td>Ощущалось на мысе\\r\\nШипунский силой 2 балла.</td>\n",
              "    </tr>\n",
              "    <tr>\n",
              "      <th>1</th>\n",
              "      <td>2003-01-01</td>\n",
              "      <td>3</td>\n",
              "      <td>41</td>\n",
              "      <td>7.8</td>\n",
              "      <td>0.4</td>\n",
              "      <td>53.70</td>\n",
              "      <td>0.03</td>\n",
              "      <td>160.81</td>\n",
              "      <td>0.03</td>\n",
              "      <td>36</td>\n",
              "      <td>5.0</td>\n",
              "      <td>3.0</td>\n",
              "      <td>KAGSR</td>\n",
              "      <td>Камчатка и Командорские острова</td>\n",
              "      <td>NaN</td>\n",
              "      <td>NaN</td>\n",
              "    </tr>\n",
              "    <tr>\n",
              "      <th>2</th>\n",
              "      <td>2003-01-01</td>\n",
              "      <td>10</td>\n",
              "      <td>30</td>\n",
              "      <td>51.4</td>\n",
              "      <td>0.7</td>\n",
              "      <td>54.96</td>\n",
              "      <td>0.03</td>\n",
              "      <td>161.02</td>\n",
              "      <td>0.03</td>\n",
              "      <td>87</td>\n",
              "      <td>3.0</td>\n",
              "      <td>2.8</td>\n",
              "      <td>KAGSR</td>\n",
              "      <td>Камчатка и Командорские острова</td>\n",
              "      <td>NaN</td>\n",
              "      <td>NaN</td>\n",
              "    </tr>\n",
              "    <tr>\n",
              "      <th>3</th>\n",
              "      <td>2003-01-01</td>\n",
              "      <td>14</td>\n",
              "      <td>57</td>\n",
              "      <td>50.2</td>\n",
              "      <td>0.8</td>\n",
              "      <td>51.25</td>\n",
              "      <td>0.13</td>\n",
              "      <td>153.40</td>\n",
              "      <td>0.13</td>\n",
              "      <td>287</td>\n",
              "      <td>13.0</td>\n",
              "      <td>3.6</td>\n",
              "      <td>KAGSR</td>\n",
              "      <td>Камчатка и Командорские острова</td>\n",
              "      <td>NaN</td>\n",
              "      <td>NaN</td>\n",
              "    </tr>\n",
              "    <tr>\n",
              "      <th>4</th>\n",
              "      <td>2003-01-03</td>\n",
              "      <td>5</td>\n",
              "      <td>30</td>\n",
              "      <td>32.8</td>\n",
              "      <td>0.4</td>\n",
              "      <td>55.59</td>\n",
              "      <td>0.11</td>\n",
              "      <td>165.93</td>\n",
              "      <td>0.11</td>\n",
              "      <td>19</td>\n",
              "      <td>12.0</td>\n",
              "      <td>3.6</td>\n",
              "      <td>KAGSR</td>\n",
              "      <td>Камчатка и Командорские острова</td>\n",
              "      <td>NaN</td>\n",
              "      <td>NaN</td>\n",
              "    </tr>\n",
              "    <tr>\n",
              "      <th>5</th>\n",
              "      <td>2003-01-03</td>\n",
              "      <td>7</td>\n",
              "      <td>53</td>\n",
              "      <td>24.1</td>\n",
              "      <td>0.6</td>\n",
              "      <td>54.11</td>\n",
              "      <td>0.14</td>\n",
              "      <td>169.33</td>\n",
              "      <td>0.14</td>\n",
              "      <td>21</td>\n",
              "      <td>17.0</td>\n",
              "      <td>2.9</td>\n",
              "      <td>KAGSR</td>\n",
              "      <td>Камчатка и Командорские острова</td>\n",
              "      <td>NaN</td>\n",
              "      <td>NaN</td>\n",
              "    </tr>\n",
              "    <tr>\n",
              "      <th>6</th>\n",
              "      <td>2003-01-03</td>\n",
              "      <td>8</td>\n",
              "      <td>5</td>\n",
              "      <td>5.3</td>\n",
              "      <td>0.6</td>\n",
              "      <td>53.05</td>\n",
              "      <td>0.02</td>\n",
              "      <td>160.55</td>\n",
              "      <td>0.02</td>\n",
              "      <td>37</td>\n",
              "      <td>3.0</td>\n",
              "      <td>3.3</td>\n",
              "      <td>KAGSR</td>\n",
              "      <td>Камчатка и Командорские острова</td>\n",
              "      <td>NaN</td>\n",
              "      <td>NaN</td>\n",
              "    </tr>\n",
              "    <tr>\n",
              "      <th>7</th>\n",
              "      <td>2003-01-04</td>\n",
              "      <td>2</td>\n",
              "      <td>5</td>\n",
              "      <td>5.3</td>\n",
              "      <td>0.5</td>\n",
              "      <td>50.72</td>\n",
              "      <td>0.04</td>\n",
              "      <td>157.42</td>\n",
              "      <td>0.04</td>\n",
              "      <td>40</td>\n",
              "      <td>10.0</td>\n",
              "      <td>3.1</td>\n",
              "      <td>KAGSR</td>\n",
              "      <td>Камчатка и Командорские острова</td>\n",
              "      <td>NaN</td>\n",
              "      <td>NaN</td>\n",
              "    </tr>\n",
              "    <tr>\n",
              "      <th>8</th>\n",
              "      <td>2003-01-04</td>\n",
              "      <td>11</td>\n",
              "      <td>32</td>\n",
              "      <td>34.3</td>\n",
              "      <td>0.6</td>\n",
              "      <td>55.39</td>\n",
              "      <td>0.04</td>\n",
              "      <td>166.45</td>\n",
              "      <td>0.04</td>\n",
              "      <td>24</td>\n",
              "      <td>3.0</td>\n",
              "      <td>2.9</td>\n",
              "      <td>KAGSR</td>\n",
              "      <td>Камчатка и Командорские острова</td>\n",
              "      <td>NaN</td>\n",
              "      <td>NaN</td>\n",
              "    </tr>\n",
              "    <tr>\n",
              "      <th>9</th>\n",
              "      <td>2003-01-04</td>\n",
              "      <td>13</td>\n",
              "      <td>46</td>\n",
              "      <td>16.3</td>\n",
              "      <td>0.5</td>\n",
              "      <td>49.38</td>\n",
              "      <td>0.14</td>\n",
              "      <td>156.32</td>\n",
              "      <td>0.14</td>\n",
              "      <td>64</td>\n",
              "      <td>31.0</td>\n",
              "      <td>3.2</td>\n",
              "      <td>KAGSR</td>\n",
              "      <td>Камчатка и Командорские острова</td>\n",
              "      <td>NaN</td>\n",
              "      <td>NaN</td>\n",
              "    </tr>\n",
              "    <tr>\n",
              "      <th>10</th>\n",
              "      <td>2003-01-04</td>\n",
              "      <td>17</td>\n",
              "      <td>43</td>\n",
              "      <td>14.4</td>\n",
              "      <td>0.5</td>\n",
              "      <td>52.32</td>\n",
              "      <td>0.02</td>\n",
              "      <td>159.79</td>\n",
              "      <td>0.02</td>\n",
              "      <td>20</td>\n",
              "      <td>3.0</td>\n",
              "      <td>2.7</td>\n",
              "      <td>KAGSR</td>\n",
              "      <td>Камчатка и Командорские острова</td>\n",
              "      <td>NaN</td>\n",
              "      <td>NaN</td>\n",
              "    </tr>\n",
              "    <tr>\n",
              "      <th>11</th>\n",
              "      <td>2003-01-04</td>\n",
              "      <td>19</td>\n",
              "      <td>36</td>\n",
              "      <td>1.8</td>\n",
              "      <td>0.7</td>\n",
              "      <td>49.42</td>\n",
              "      <td>0.23</td>\n",
              "      <td>156.15</td>\n",
              "      <td>0.23</td>\n",
              "      <td>0</td>\n",
              "      <td>27.0</td>\n",
              "      <td>3.1</td>\n",
              "      <td>KAGSR</td>\n",
              "      <td>Камчатка и Командорские острова</td>\n",
              "      <td>NaN</td>\n",
              "      <td>NaN</td>\n",
              "    </tr>\n",
              "    <tr>\n",
              "      <th>12</th>\n",
              "      <td>2003-01-05</td>\n",
              "      <td>0</td>\n",
              "      <td>18</td>\n",
              "      <td>46.2</td>\n",
              "      <td>0.9</td>\n",
              "      <td>55.54</td>\n",
              "      <td>0.13</td>\n",
              "      <td>166.38</td>\n",
              "      <td>0.13</td>\n",
              "      <td>15</td>\n",
              "      <td>12.0</td>\n",
              "      <td>3.2</td>\n",
              "      <td>KAGSR</td>\n",
              "      <td>Камчатка и Командорские острова</td>\n",
              "      <td>NaN</td>\n",
              "      <td>NaN</td>\n",
              "    </tr>\n",
              "    <tr>\n",
              "      <th>13</th>\n",
              "      <td>2003-01-05</td>\n",
              "      <td>4</td>\n",
              "      <td>34</td>\n",
              "      <td>11.5</td>\n",
              "      <td>0.8</td>\n",
              "      <td>53.76</td>\n",
              "      <td>0.04</td>\n",
              "      <td>160.87</td>\n",
              "      <td>0.04</td>\n",
              "      <td>40</td>\n",
              "      <td>6.0</td>\n",
              "      <td>4.5</td>\n",
              "      <td>KAGSR</td>\n",
              "      <td>Камчатка и Командорские острова</td>\n",
              "      <td>NaN</td>\n",
              "      <td>Ощущалось в Институте силой 2-3 балла.</td>\n",
              "    </tr>\n",
              "    <tr>\n",
              "      <th>14</th>\n",
              "      <td>2003-01-06</td>\n",
              "      <td>14</td>\n",
              "      <td>22</td>\n",
              "      <td>4.3</td>\n",
              "      <td>1.1</td>\n",
              "      <td>55.60</td>\n",
              "      <td>0.06</td>\n",
              "      <td>166.28</td>\n",
              "      <td>0.06</td>\n",
              "      <td>40</td>\n",
              "      <td>12.0</td>\n",
              "      <td>2.9</td>\n",
              "      <td>KAGSR</td>\n",
              "      <td>Камчатка и Командорские острова</td>\n",
              "      <td>NaN</td>\n",
              "      <td>NaN</td>\n",
              "    </tr>\n",
              "    <tr>\n",
              "      <th>15</th>\n",
              "      <td>2003-01-07</td>\n",
              "      <td>6</td>\n",
              "      <td>40</td>\n",
              "      <td>37.7</td>\n",
              "      <td>0.7</td>\n",
              "      <td>54.05</td>\n",
              "      <td>0.05</td>\n",
              "      <td>161.61</td>\n",
              "      <td>0.05</td>\n",
              "      <td>11</td>\n",
              "      <td>4.0</td>\n",
              "      <td>2.7</td>\n",
              "      <td>KAGSR</td>\n",
              "      <td>Камчатка и Командорские острова</td>\n",
              "      <td>NaN</td>\n",
              "      <td>NaN</td>\n",
              "    </tr>\n",
              "    <tr>\n",
              "      <th>16</th>\n",
              "      <td>2003-01-07</td>\n",
              "      <td>16</td>\n",
              "      <td>1</td>\n",
              "      <td>2.4</td>\n",
              "      <td>0.9</td>\n",
              "      <td>54.45</td>\n",
              "      <td>0.03</td>\n",
              "      <td>161.60</td>\n",
              "      <td>0.03</td>\n",
              "      <td>32</td>\n",
              "      <td>3.0</td>\n",
              "      <td>3.5</td>\n",
              "      <td>KAGSR</td>\n",
              "      <td>Камчатка и Командорские острова</td>\n",
              "      <td>NaN</td>\n",
              "      <td>NaN</td>\n",
              "    </tr>\n",
              "    <tr>\n",
              "      <th>17</th>\n",
              "      <td>2003-01-08</td>\n",
              "      <td>19</td>\n",
              "      <td>34</td>\n",
              "      <td>2.2</td>\n",
              "      <td>0.8</td>\n",
              "      <td>49.46</td>\n",
              "      <td>0.24</td>\n",
              "      <td>156.71</td>\n",
              "      <td>0.24</td>\n",
              "      <td>41</td>\n",
              "      <td>99.0</td>\n",
              "      <td>3.1</td>\n",
              "      <td>KAGSR</td>\n",
              "      <td>Камчатка и Командорские острова</td>\n",
              "      <td>NaN</td>\n",
              "      <td>NaN</td>\n",
              "    </tr>\n",
              "    <tr>\n",
              "      <th>18</th>\n",
              "      <td>2003-01-09</td>\n",
              "      <td>7</td>\n",
              "      <td>20</td>\n",
              "      <td>32.2</td>\n",
              "      <td>0.9</td>\n",
              "      <td>50.94</td>\n",
              "      <td>0.06</td>\n",
              "      <td>158.12</td>\n",
              "      <td>0.06</td>\n",
              "      <td>42</td>\n",
              "      <td>40.0</td>\n",
              "      <td>3.2</td>\n",
              "      <td>KAGSR</td>\n",
              "      <td>Камчатка и Командорские острова</td>\n",
              "      <td>NaN</td>\n",
              "      <td>NaN</td>\n",
              "    </tr>\n",
              "    <tr>\n",
              "      <th>19</th>\n",
              "      <td>2003-01-10</td>\n",
              "      <td>0</td>\n",
              "      <td>54</td>\n",
              "      <td>55.7</td>\n",
              "      <td>0.4</td>\n",
              "      <td>54.73</td>\n",
              "      <td>0.09</td>\n",
              "      <td>158.50</td>\n",
              "      <td>0.09</td>\n",
              "      <td>328</td>\n",
              "      <td>3.0</td>\n",
              "      <td>3.3</td>\n",
              "      <td>KAGSR</td>\n",
              "      <td>Камчатка и Командорские острова</td>\n",
              "      <td>NaN</td>\n",
              "      <td>NaN</td>\n",
              "    </tr>\n",
              "    <tr>\n",
              "      <th>20</th>\n",
              "      <td>2003-01-10</td>\n",
              "      <td>1</td>\n",
              "      <td>29</td>\n",
              "      <td>6.2</td>\n",
              "      <td>0.8</td>\n",
              "      <td>50.22</td>\n",
              "      <td>0.20</td>\n",
              "      <td>157.03</td>\n",
              "      <td>0.20</td>\n",
              "      <td>20</td>\n",
              "      <td>57.0</td>\n",
              "      <td>2.9</td>\n",
              "      <td>KAGSR</td>\n",
              "      <td>Камчатка и Командорские острова</td>\n",
              "      <td>NaN</td>\n",
              "      <td>NaN</td>\n",
              "    </tr>\n",
              "    <tr>\n",
              "      <th>21</th>\n",
              "      <td>2003-01-10</td>\n",
              "      <td>16</td>\n",
              "      <td>6</td>\n",
              "      <td>26.0</td>\n",
              "      <td>1.4</td>\n",
              "      <td>55.57</td>\n",
              "      <td>0.05</td>\n",
              "      <td>166.26</td>\n",
              "      <td>0.05</td>\n",
              "      <td>40</td>\n",
              "      <td>11.0</td>\n",
              "      <td>2.9</td>\n",
              "      <td>KAGSR</td>\n",
              "      <td>Камчатка и Командорские острова</td>\n",
              "      <td>NaN</td>\n",
              "      <td>NaN</td>\n",
              "    </tr>\n",
              "    <tr>\n",
              "      <th>22</th>\n",
              "      <td>2003-01-10</td>\n",
              "      <td>22</td>\n",
              "      <td>43</td>\n",
              "      <td>39.6</td>\n",
              "      <td>0.5</td>\n",
              "      <td>50.44</td>\n",
              "      <td>0.14</td>\n",
              "      <td>156.93</td>\n",
              "      <td>0.14</td>\n",
              "      <td>37</td>\n",
              "      <td>45.0</td>\n",
              "      <td>2.9</td>\n",
              "      <td>KAGSR</td>\n",
              "      <td>Камчатка и Командорские острова</td>\n",
              "      <td>NaN</td>\n",
              "      <td>NaN</td>\n",
              "    </tr>\n",
              "    <tr>\n",
              "      <th>23</th>\n",
              "      <td>2003-01-11</td>\n",
              "      <td>0</td>\n",
              "      <td>18</td>\n",
              "      <td>42.3</td>\n",
              "      <td>0.7</td>\n",
              "      <td>51.73</td>\n",
              "      <td>0.05</td>\n",
              "      <td>157.81</td>\n",
              "      <td>0.05</td>\n",
              "      <td>106</td>\n",
              "      <td>4.0</td>\n",
              "      <td>2.7</td>\n",
              "      <td>KAGSR</td>\n",
              "      <td>Камчатка и Командорские острова</td>\n",
              "      <td>NaN</td>\n",
              "      <td>NaN</td>\n",
              "    </tr>\n",
              "    <tr>\n",
              "      <th>24</th>\n",
              "      <td>2003-01-11</td>\n",
              "      <td>19</td>\n",
              "      <td>28</td>\n",
              "      <td>6.6</td>\n",
              "      <td>1.5</td>\n",
              "      <td>51.18</td>\n",
              "      <td>0.05</td>\n",
              "      <td>157.64</td>\n",
              "      <td>0.05</td>\n",
              "      <td>78</td>\n",
              "      <td>10.0</td>\n",
              "      <td>3.7</td>\n",
              "      <td>KAGSR</td>\n",
              "      <td>Камчатка и Командорские острова</td>\n",
              "      <td>NaN</td>\n",
              "      <td>Ощущалось в Северо-Курильске силой 1-2 балла.</td>\n",
              "    </tr>\n",
              "    <tr>\n",
              "      <th>25</th>\n",
              "      <td>2003-01-11</td>\n",
              "      <td>21</td>\n",
              "      <td>7</td>\n",
              "      <td>23.2</td>\n",
              "      <td>1.8</td>\n",
              "      <td>53.66</td>\n",
              "      <td>0.03</td>\n",
              "      <td>161.86</td>\n",
              "      <td>0.03</td>\n",
              "      <td>27</td>\n",
              "      <td>6.0</td>\n",
              "      <td>3.2</td>\n",
              "      <td>KAGSR</td>\n",
              "      <td>Камчатка и Командорские острова</td>\n",
              "      <td>NaN</td>\n",
              "      <td>NaN</td>\n",
              "    </tr>\n",
              "    <tr>\n",
              "      <th>26</th>\n",
              "      <td>2003-01-13</td>\n",
              "      <td>12</td>\n",
              "      <td>18</td>\n",
              "      <td>57.3</td>\n",
              "      <td>0.4</td>\n",
              "      <td>49.34</td>\n",
              "      <td>0.16</td>\n",
              "      <td>155.85</td>\n",
              "      <td>0.16</td>\n",
              "      <td>31</td>\n",
              "      <td>14.0</td>\n",
              "      <td>2.9</td>\n",
              "      <td>KAGSR</td>\n",
              "      <td>Камчатка и Командорские острова</td>\n",
              "      <td>NaN</td>\n",
              "      <td>NaN</td>\n",
              "    </tr>\n",
              "    <tr>\n",
              "      <th>27</th>\n",
              "      <td>2003-01-15</td>\n",
              "      <td>2</td>\n",
              "      <td>35</td>\n",
              "      <td>23.9</td>\n",
              "      <td>0.4</td>\n",
              "      <td>53.31</td>\n",
              "      <td>0.02</td>\n",
              "      <td>160.18</td>\n",
              "      <td>0.02</td>\n",
              "      <td>44</td>\n",
              "      <td>3.0</td>\n",
              "      <td>2.8</td>\n",
              "      <td>KAGSR</td>\n",
              "      <td>Камчатка и Командорские острова</td>\n",
              "      <td>NaN</td>\n",
              "      <td>NaN</td>\n",
              "    </tr>\n",
              "    <tr>\n",
              "      <th>28</th>\n",
              "      <td>2003-01-15</td>\n",
              "      <td>2</td>\n",
              "      <td>35</td>\n",
              "      <td>52.2</td>\n",
              "      <td>1.1</td>\n",
              "      <td>53.34</td>\n",
              "      <td>0.02</td>\n",
              "      <td>160.47</td>\n",
              "      <td>0.02</td>\n",
              "      <td>39</td>\n",
              "      <td>4.0</td>\n",
              "      <td>4.0</td>\n",
              "      <td>KAGSR</td>\n",
              "      <td>Камчатка и Командорские острова</td>\n",
              "      <td>NaN</td>\n",
              "      <td>NaN</td>\n",
              "    </tr>\n",
              "    <tr>\n",
              "      <th>29</th>\n",
              "      <td>2003-01-15</td>\n",
              "      <td>8</td>\n",
              "      <td>42</td>\n",
              "      <td>9.7</td>\n",
              "      <td>0.5</td>\n",
              "      <td>56.18</td>\n",
              "      <td>0.02</td>\n",
              "      <td>161.70</td>\n",
              "      <td>0.02</td>\n",
              "      <td>81</td>\n",
              "      <td>2.0</td>\n",
              "      <td>3.2</td>\n",
              "      <td>KAGSR</td>\n",
              "      <td>Камчатка и Командорские острова</td>\n",
              "      <td>NaN</td>\n",
              "      <td>NaN</td>\n",
              "    </tr>\n",
              "  </tbody>\n",
              "</table>\n",
              "</div>"
            ],
            "text/plain": [
              "         Date  ...                       Макросейсмические данные\n",
              "0  2003-01-01  ...  Ощущалось на мысе\\r\\nШипунский силой 2 балла.\n",
              "1  2003-01-01  ...                                            NaN\n",
              "2  2003-01-01  ...                                            NaN\n",
              "3  2003-01-01  ...                                            NaN\n",
              "4  2003-01-03  ...                                            NaN\n",
              "5  2003-01-03  ...                                            NaN\n",
              "6  2003-01-03  ...                                            NaN\n",
              "7  2003-01-04  ...                                            NaN\n",
              "8  2003-01-04  ...                                            NaN\n",
              "9  2003-01-04  ...                                            NaN\n",
              "10 2003-01-04  ...                                            NaN\n",
              "11 2003-01-04  ...                                            NaN\n",
              "12 2003-01-05  ...                                            NaN\n",
              "13 2003-01-05  ...         Ощущалось в Институте силой 2-3 балла.\n",
              "14 2003-01-06  ...                                            NaN\n",
              "15 2003-01-07  ...                                            NaN\n",
              "16 2003-01-07  ...                                            NaN\n",
              "17 2003-01-08  ...                                            NaN\n",
              "18 2003-01-09  ...                                            NaN\n",
              "19 2003-01-10  ...                                            NaN\n",
              "20 2003-01-10  ...                                            NaN\n",
              "21 2003-01-10  ...                                            NaN\n",
              "22 2003-01-10  ...                                            NaN\n",
              "23 2003-01-11  ...                                            NaN\n",
              "24 2003-01-11  ...  Ощущалось в Северо-Курильске силой 1-2 балла.\n",
              "25 2003-01-11  ...                                            NaN\n",
              "26 2003-01-13  ...                                            NaN\n",
              "27 2003-01-15  ...                                            NaN\n",
              "28 2003-01-15  ...                                            NaN\n",
              "29 2003-01-15  ...                                            NaN\n",
              "\n",
              "[30 rows x 16 columns]"
            ]
          },
          "metadata": {
            "tags": []
          },
          "execution_count": 10
        }
      ]
    },
    {
      "cell_type": "code",
      "metadata": {
        "id": "hgyDM2LDpROR"
      },
      "source": [
        "split_time = 52000\n",
        "time_train = time[:split_time]\n",
        "x_train = Magnitude[:split_time]\n",
        "time_valid = time[split_time:]\n",
        "x_valid = Magnitude[split_time:]\n",
        "\n",
        "window_size = 30\n",
        "batch_size = 32\n",
        "shuffle_buffer_size = 3000"
      ],
      "execution_count": null,
      "outputs": []
    },
    {
      "cell_type": "code",
      "metadata": {
        "colab": {
          "base_uri": "https://localhost:8080/"
        },
        "id": "673f_5VgpysA",
        "outputId": "89270e06-3c9a-4428-f7df-8daa9200bf21"
      },
      "source": [
        "print(len(series['Date']))"
      ],
      "execution_count": null,
      "outputs": [
        {
          "output_type": "stream",
          "text": [
            "53463\n"
          ],
          "name": "stdout"
        }
      ]
    },
    {
      "cell_type": "code",
      "metadata": {
        "id": "kx5Yj_C2pVbq"
      },
      "source": [
        "def windowed_dataset(Magnitude, window_size, batch_size, shuffle_buffer):\n",
        "    Magnitude = tf.expand_dims(Magnitude, axis=-1)\n",
        "    ds = tf.data.Dataset.from_tensor_slices(Magnitude)\n",
        "    ds = ds.window(window_size + 1, shift=1, drop_remainder=True)\n",
        "    ds = ds.flat_map(lambda w: w.batch(window_size + 1))\n",
        "    ds = ds.shuffle(shuffle_buffer)\n",
        "    ds = ds.map(lambda w: (w[:-1], w[1:]))\n",
        "    return ds.batch(batch_size).prefetch(1)"
      ],
      "execution_count": null,
      "outputs": []
    },
    {
      "cell_type": "code",
      "metadata": {
        "id": "E6V9-fyzpW_x"
      },
      "source": [
        "def model_forecast(model, Magnitude, window_size):\n",
        "    ds = tf.data.Dataset.from_tensor_slices(Magnitude)\n",
        "    ds = ds.window(window_size, shift=1, drop_remainder=True)\n",
        "    ds = ds.flat_map(lambda w: w.batch(window_size))\n",
        "    ds = ds.batch(60).prefetch(1)\n",
        "    forecast = model.predict(ds)\n",
        "    return forecast"
      ],
      "execution_count": null,
      "outputs": []
    },
    {
      "cell_type": "code",
      "metadata": {
        "colab": {
          "base_uri": "https://localhost:8080/"
        },
        "id": "4WlAS02ppZ1a",
        "outputId": "477e897b-f447-441b-f1fc-0f7f0ad0a442"
      },
      "source": [
        "tf.keras.backend.clear_session()\n",
        "tf.random.set_seed(51)\n",
        "np.random.seed(51)\n",
        "train_set = windowed_dataset(x_train, window_size=60, batch_size=180, shuffle_buffer=shuffle_buffer_size)\n",
        "model = tf.keras.models.Sequential([\n",
        "  \n",
        "  tf.keras.layers.Conv1D(filters=60, kernel_size=5,\n",
        "                      strides=1, padding=\"causal\",\n",
        "                      activation=\"relu\",\n",
        "                      input_shape=[None, 1]),   \n",
        "  \n",
        "   \n",
        "  tf.keras.layers.LSTM(60, return_sequences=True),\n",
        "  tf.keras.layers.LSTM(60, return_sequences=True), \n",
        "  #tf.keras.layers.Dense(30, activation=\"relu\"),\n",
        "  tf.keras.layers.Dense(45, activation=\"relu\"),\n",
        "  tf.keras.layers.Dense(30, activation=\"relu\"),  \n",
        "  tf.keras.layers.Dense(1),\n",
        "  tf.keras.layers.Lambda(lambda x: x * 400)\n",
        "])\n",
        "\n",
        "\n",
        "optimizer = tf.keras.optimizers.SGD(lr=1e-7, momentum=0.9)\n",
        "model.compile(loss=tf.keras.losses.Huber(),\n",
        "              optimizer=optimizer,\n",
        "              metrics=[\"mae\"])\n",
        "history = model.fit(train_set,epochs=50)"
      ],
      "execution_count": null,
      "outputs": [
        {
          "output_type": "stream",
          "text": [
            "Epoch 1/50\n",
            "289/289 [==============================] - 11s 29ms/step - loss: 7.8064 - mae: 8.2541\n",
            "Epoch 2/50\n",
            "289/289 [==============================] - 9s 29ms/step - loss: 0.4074 - mae: 0.7711\n",
            "Epoch 3/50\n",
            "289/289 [==============================] - 9s 30ms/step - loss: 0.3820 - mae: 0.7391\n",
            "Epoch 4/50\n",
            "289/289 [==============================] - 9s 29ms/step - loss: 0.3688 - mae: 0.7238\n",
            "Epoch 5/50\n",
            "289/289 [==============================] - 9s 29ms/step - loss: 0.3597 - mae: 0.7133\n",
            "Epoch 6/50\n",
            "289/289 [==============================] - 8s 28ms/step - loss: 0.3527 - mae: 0.7050\n",
            "Epoch 7/50\n",
            "289/289 [==============================] - 9s 29ms/step - loss: 0.3472 - mae: 0.6984\n",
            "Epoch 8/50\n",
            "289/289 [==============================] - 9s 30ms/step - loss: 0.3436 - mae: 0.6941\n",
            "Epoch 9/50\n",
            "289/289 [==============================] - 8s 29ms/step - loss: 0.3398 - mae: 0.6895\n",
            "Epoch 10/50\n",
            "289/289 [==============================] - 9s 29ms/step - loss: 0.3372 - mae: 0.6864\n",
            "Epoch 11/50\n",
            "289/289 [==============================] - 9s 29ms/step - loss: 0.3347 - mae: 0.6834\n",
            "Epoch 12/50\n",
            "289/289 [==============================] - 8s 28ms/step - loss: 0.3326 - mae: 0.6810\n",
            "Epoch 13/50\n",
            "289/289 [==============================] - 8s 28ms/step - loss: 0.3310 - mae: 0.6790\n",
            "Epoch 14/50\n",
            "289/289 [==============================] - 8s 28ms/step - loss: 0.3289 - mae: 0.6763\n",
            "Epoch 15/50\n",
            "289/289 [==============================] - 9s 29ms/step - loss: 0.3274 - mae: 0.6745\n",
            "Epoch 16/50\n",
            "289/289 [==============================] - 9s 29ms/step - loss: 0.3262 - mae: 0.6730\n",
            "Epoch 17/50\n",
            "289/289 [==============================] - 8s 28ms/step - loss: 0.3241 - mae: 0.6704\n",
            "Epoch 18/50\n",
            "289/289 [==============================] - 9s 29ms/step - loss: 0.3233 - mae: 0.6693\n",
            "Epoch 19/50\n",
            "289/289 [==============================] - 9s 29ms/step - loss: 0.3216 - mae: 0.6673\n",
            "Epoch 20/50\n",
            "289/289 [==============================] - 8s 28ms/step - loss: 0.3198 - mae: 0.6651\n",
            "Epoch 21/50\n",
            "289/289 [==============================] - 8s 28ms/step - loss: 0.3189 - mae: 0.6639\n",
            "Epoch 22/50\n",
            "289/289 [==============================] - 8s 28ms/step - loss: 0.3175 - mae: 0.6621\n",
            "Epoch 23/50\n",
            "289/289 [==============================] - 9s 29ms/step - loss: 0.3164 - mae: 0.6608\n",
            "Epoch 24/50\n",
            "289/289 [==============================] - 8s 28ms/step - loss: 0.3153 - mae: 0.6594\n",
            "Epoch 25/50\n",
            "289/289 [==============================] - 8s 28ms/step - loss: 0.3143 - mae: 0.6582\n",
            "Epoch 26/50\n",
            "289/289 [==============================] - 8s 28ms/step - loss: 0.3129 - mae: 0.6564\n",
            "Epoch 27/50\n",
            "289/289 [==============================] - 9s 29ms/step - loss: 0.3114 - mae: 0.6547\n",
            "Epoch 28/50\n",
            "289/289 [==============================] - 8s 28ms/step - loss: 0.3102 - mae: 0.6531\n",
            "Epoch 29/50\n",
            "289/289 [==============================] - 8s 28ms/step - loss: 0.3088 - mae: 0.6513\n",
            "Epoch 30/50\n",
            "289/289 [==============================] - 9s 29ms/step - loss: 0.3076 - mae: 0.6499\n",
            "Epoch 31/50\n",
            "289/289 [==============================] - 9s 29ms/step - loss: 0.3064 - mae: 0.6485\n",
            "Epoch 32/50\n",
            "289/289 [==============================] - 8s 28ms/step - loss: 0.3049 - mae: 0.6466\n",
            "Epoch 33/50\n",
            "289/289 [==============================] - 9s 29ms/step - loss: 0.3041 - mae: 0.6457\n",
            "Epoch 34/50\n",
            "289/289 [==============================] - 8s 28ms/step - loss: 0.3029 - mae: 0.6442\n",
            "Epoch 35/50\n",
            "289/289 [==============================] - 8s 28ms/step - loss: 0.3013 - mae: 0.6422\n",
            "Epoch 36/50\n",
            "289/289 [==============================] - 8s 29ms/step - loss: 0.2999 - mae: 0.6402\n",
            "Epoch 37/50\n",
            "289/289 [==============================] - 8s 28ms/step - loss: 0.2987 - mae: 0.6388\n",
            "Epoch 38/50\n",
            "289/289 [==============================] - 8s 28ms/step - loss: 0.2975 - mae: 0.6373\n",
            "Epoch 39/50\n",
            "289/289 [==============================] - 9s 29ms/step - loss: 0.2960 - mae: 0.6355\n",
            "Epoch 40/50\n",
            "289/289 [==============================] - 9s 29ms/step - loss: 0.2951 - mae: 0.6344\n",
            "Epoch 41/50\n",
            "289/289 [==============================] - 8s 28ms/step - loss: 0.2936 - mae: 0.6326\n",
            "Epoch 42/50\n",
            "289/289 [==============================] - 9s 29ms/step - loss: 0.2926 - mae: 0.6313\n",
            "Epoch 43/50\n",
            "289/289 [==============================] - 8s 29ms/step - loss: 0.2916 - mae: 0.6301\n",
            "Epoch 44/50\n",
            "289/289 [==============================] - 8s 28ms/step - loss: 0.2904 - mae: 0.6286\n",
            "Epoch 45/50\n",
            "289/289 [==============================] - 9s 29ms/step - loss: 0.2891 - mae: 0.6270\n",
            "Epoch 46/50\n",
            "289/289 [==============================] - 9s 29ms/step - loss: 0.2882 - mae: 0.6258\n",
            "Epoch 47/50\n",
            "289/289 [==============================] - 8s 29ms/step - loss: 0.2872 - mae: 0.6245\n",
            "Epoch 48/50\n",
            "289/289 [==============================] - 9s 29ms/step - loss: 0.2864 - mae: 0.6234\n",
            "Epoch 49/50\n",
            "289/289 [==============================] - 9s 29ms/step - loss: 0.2852 - mae: 0.6219\n",
            "Epoch 50/50\n",
            "289/289 [==============================] - 9s 29ms/step - loss: 0.2845 - mae: 0.6210\n"
          ],
          "name": "stdout"
        }
      ]
    },
    {
      "cell_type": "code",
      "metadata": {
        "id": "5NsCBy-xrLYJ"
      },
      "source": [
        "def plot_series(Date, Magnitude , start=0, end=None):\n",
        "    plt.plot(Date[start:end], Magnitude[start:end], )\n",
        "    plt.xlabel(\"Время\")\n",
        "    plt.ylabel(\"Значение\")\n",
        "    plt.grid(True)"
      ],
      "execution_count": null,
      "outputs": []
    },
    {
      "cell_type": "code",
      "metadata": {
        "id": "qn4sgji6rYIY"
      },
      "source": [
        "rnn_forecast = model_forecast(model, Magnitude[...,np.newaxis], window_size)\n",
        "rnn_forecast = rnn_forecast[split_time - window_size:-1, -1, -0]"
      ],
      "execution_count": null,
      "outputs": []
    },
    {
      "cell_type": "code",
      "metadata": {
        "colab": {
          "base_uri": "https://localhost:8080/"
        },
        "id": "myrL1Vqnxq3q",
        "outputId": "57589481-53ef-4d19-e4d5-eba5fba686cc"
      },
      "source": [
        "print(x_train)"
      ],
      "execution_count": null,
      "outputs": [
        {
          "output_type": "stream",
          "text": [
            "[4.8 3.  2.8 ... 2.4 2.3 2.6]\n"
          ],
          "name": "stdout"
        }
      ]
    },
    {
      "cell_type": "code",
      "metadata": {
        "colab": {
          "base_uri": "https://localhost:8080/",
          "height": 388
        },
        "id": "7P_ZchLSq9Co",
        "outputId": "83a4d4de-8c8f-4228-cf7d-041abd45cf78"
      },
      "source": [
        "plt.figure(figsize=(10, 6))\n",
        "plot_series(time_valid[:1000], x_valid[:1000])\n",
        "plot_series(time_valid[:1000], rnn_forecast[:1000])"
      ],
      "execution_count": null,
      "outputs": [
        {
          "output_type": "display_data",
          "data": {
            "image/png": "[encoded data removed]",
            "text/plain": [
              "<Figure size 720x432 with 1 Axes>"
            ]
          },
          "metadata": {
            "tags": [],
            "needs_background": "light"
          }
        }
      ]
    },
    {
      "cell_type": "code",
      "metadata": {
        "colab": {
          "base_uri": "https://localhost:8080/"
        },
        "id": "WSBcdx80ttCh",
        "outputId": "23a3de16-66ec-40f2-f937-b51bad972b95"
      },
      "source": [
        "print(rnn_forecast)\n",
        "\n",
        "print(x_valid)"
      ],
      "execution_count": null,
      "outputs": [
        {
          "output_type": "stream",
          "text": [
            "[2.2521448 2.346292  1.9205325 ... 2.316022  2.255625  2.0852706]\n",
            "[2.1 5.6 3.1 ... 1.4 2.1 2.9]\n"
          ],
          "name": "stdout"
        }
      ]
    },
    {
      "cell_type": "code",
      "metadata": {
        "colab": {
          "base_uri": "https://localhost:8080/"
        },
        "id": "AyrbVmAwvE8s",
        "outputId": "3ee24639-5f16-4fb6-ab63-999596bcc37b"
      },
      "source": [
        "tf.keras.metrics.mean_absolute_error(x_valid, rnn_forecast).numpy()"
      ],
      "execution_count": null,
      "outputs": [
        {
          "output_type": "execute_result",
          "data": {
            "text/plain": [
              "0.5900322"
            ]
          },
          "metadata": {
            "tags": []
          },
          "execution_count": 12
        }
      ]
    },
    {
      "cell_type": "code",
      "metadata": {
        "colab": {
          "base_uri": "https://localhost:8080/",
          "height": 265
        },
        "id": "zBjDHPMQzb9j",
        "outputId": "8db43b43-3522-4227-a68a-63fd046fc35c"
      },
      "source": [
        "plt.plot(history.epoch, history.history[\"loss\"])\n",
        "plt.show()"
      ],
      "execution_count": null,
      "outputs": [
        {
          "output_type": "display_data",
          "data": {
            "image/png": "[encoded data removed]",
            "text/plain": [
              "<Figure size 432x288 with 1 Axes>"
            ]
          },
          "metadata": {
            "tags": []
          }
        }
      ]
    },
    {
      "cell_type": "code",
      "metadata": {
        "colab": {
          "base_uri": "https://localhost:8080/"
        },
        "id": "t2tYcF780M8i",
        "outputId": "0a13707e-e21f-4f27-e8bf-9409372e0bbb"
      },
      "source": [
        "print(history.history)"
      ],
      "execution_count": null,
      "outputs": [
        {
          "output_type": "stream",
          "text": [
            "{'loss': [0.4575381278991699, 0.37338608503341675, 0.3245077133178711, 0.2910018563270569, 0.275409996509552, 0.26600542664527893, 0.2587117552757263, 0.2522142231464386, 0.24648907780647278, 0.24079082906246185, 0.23565663397312164, 0.2304273545742035, 0.22539503872394562, 0.22099484503269196, 0.2166183888912201, 0.21223248541355133, 0.20796312391757965, 0.20434492826461792, 0.20021606981754303, 0.1965913325548172, 0.19305770099163055, 0.18979229032993317, 0.1864350587129593, 0.18328402936458588, 0.17994993925094604, 0.17687617242336273, 0.1736821085214615, 0.17074023187160492, 0.1678476631641388, 0.16496039927005768, 0.1626530885696411, 0.16053278744220734, 0.15849421918392181, 0.15656185150146484, 0.15494070947170258, 0.1530768871307373, 0.15150956809520721, 0.14989085495471954, 0.14819447696208954, 0.14682945609092712, 0.14543679356575012, 0.14413386583328247, 0.14284366369247437, 0.14164602756500244, 0.1404423713684082, 0.1394408494234085, 0.13822399079799652, 0.13720813393592834, 0.13621246814727783, 0.13530990481376648, 0.1343882530927658, 0.1334926038980484, 0.132614865899086, 0.13180124759674072, 0.1310657262802124, 0.13021664321422577, 0.1295080929994583, 0.12874267995357513, 0.12802162766456604, 0.12722733616828918, 0.12670399248600006, 0.12606503069400787, 0.1255291849374771, 0.12487008422613144, 0.1243266686797142, 0.12382294237613678, 0.12342607975006104, 0.12287318706512451, 0.1225319653749466, 0.12216027826070786, 0.12165860831737518, 0.12120132148265839, 0.12080271542072296, 0.12038025259971619, 0.12003286182880402, 0.11981164664030075, 0.11948639154434204, 0.11904459446668625, 0.11870402842760086, 0.11837483197450638, 0.1180807501077652, 0.11774113029241562, 0.11743736267089844, 0.1171892061829567, 0.11674506217241287, 0.11643733084201813, 0.11614525318145752, 0.11596253514289856, 0.11562590301036835, 0.11542670428752899, 0.11507520824670792, 0.11480189114809036, 0.11470036953687668, 0.11432721465826035, 0.11413636803627014, 0.11380988359451294, 0.11358394473791122, 0.1133292093873024, 0.1130230650305748, 0.11291548609733582, 0.11265454441308975, 0.11245758086442947, 0.1120767816901207, 0.1118684932589531, 0.11164027452468872, 0.11143858730792999, 0.11123832315206528, 0.110977903008461, 0.11068223416805267, 0.11053241044282913, 0.1102965772151947, 0.11002328246831894, 0.10990168154239655, 0.1096213310956955, 0.10942088812589645, 0.10929430276155472, 0.10901151597499847, 0.10887346416711807, 0.10872829705476761, 0.10841646790504456, 0.1084287166595459, 0.10822486877441406, 0.10807874798774719, 0.10788895934820175, 0.10771489888429642, 0.10757240653038025, 0.1074974462389946, 0.1073237732052803, 0.10715816169977188, 0.10696012526750565, 0.1068563461303711, 0.10677411407232285, 0.10658347606658936, 0.10650397837162018, 0.10628480464220047, 0.10614269971847534, 0.1059517040848732, 0.10588357597589493, 0.10576222836971283, 0.10568796098232269, 0.10557033121585846, 0.10539071261882782, 0.10525169223546982, 0.10519295185804367, 0.10502622276544571, 0.10491523891687393, 0.10488628596067429, 0.10473781824111938, 0.1046479195356369, 0.10452616959810257], 'mae': [0.8068829774856567, 0.7094215154647827, 0.6501545906066895, 0.6050616502761841, 0.584027111530304, 0.5721232295036316, 0.5631067156791687, 0.5548828840255737, 0.5477526187896729, 0.5404478907585144, 0.5338831543922424, 0.527143657207489, 0.5205616354942322, 0.5149469375610352, 0.5092766284942627, 0.5035009384155273, 0.49787086248397827, 0.49333223700523376, 0.4878232777118683, 0.48310673236846924, 0.4785999655723572, 0.474368155002594, 0.4700024127960205, 0.4658898413181305, 0.46152371168136597, 0.45751169323921204, 0.4533434510231018, 0.4494113326072693, 0.44562220573425293, 0.44158226251602173, 0.43856701254844666, 0.4357078969478607, 0.43289652466773987, 0.430182546377182, 0.42797592282295227, 0.4252552390098572, 0.4230198860168457, 0.42061859369277954, 0.4180940091609955, 0.41602376103401184, 0.41394123435020447, 0.4119192361831665, 0.4099879860877991, 0.4081043601036072, 0.4062024652957916, 0.4046365022659302, 0.40261849761009216, 0.40101340413093567, 0.3994012475013733, 0.3979218602180481, 0.396455854177475, 0.39491021633148193, 0.39340969920158386, 0.3920881748199463, 0.39084431529045105, 0.38939347863197327, 0.3882158100605011, 0.38688892126083374, 0.3856768012046814, 0.3842732608318329, 0.3834279179573059, 0.382344126701355, 0.38141098618507385, 0.38020309805870056, 0.37927326560020447, 0.37838008999824524, 0.37775927782058716, 0.37681880593299866, 0.3762820065021515, 0.37572479248046875, 0.3748178482055664, 0.374046266078949, 0.373416930437088, 0.37272554636001587, 0.37216004729270935, 0.3718715310096741, 0.3712814450263977, 0.37056711316108704, 0.3700200021266937, 0.3694692552089691, 0.36899492144584656, 0.36853158473968506, 0.3679957389831543, 0.367562860250473, 0.36679700016975403, 0.36632251739501953, 0.3658849596977234, 0.36558839678764343, 0.3651074767112732, 0.36476245522499084, 0.3641950488090515, 0.36374184489250183, 0.3636082410812378, 0.36295610666275024, 0.36270952224731445, 0.36216095089912415, 0.3618057668209076, 0.3614017367362976, 0.3608960509300232, 0.36074700951576233, 0.36030876636505127, 0.3599983751773834, 0.35937732458114624, 0.3589840531349182, 0.3586694896221161, 0.3583323061466217, 0.3580344021320343, 0.3575505018234253, 0.35703611373901367, 0.3568146824836731, 0.3564709722995758, 0.3559754490852356, 0.35577592253685, 0.3553203344345093, 0.35499632358551025, 0.35481420159339905, 0.3543018698692322, 0.35406723618507385, 0.35389864444732666, 0.35335883498191833, 0.3533671200275421, 0.35305461287498474, 0.3528095483779907, 0.3524826765060425, 0.3522051274776459, 0.3519667983055115, 0.351876825094223, 0.3515462279319763, 0.35122230648994446, 0.35096895694732666, 0.3508163094520569, 0.35064253211021423, 0.3503084182739258, 0.3501896858215332, 0.3498231768608093, 0.3495482802391052, 0.34923893213272095, 0.34916919469833374, 0.3489057123661041, 0.3488309979438782, 0.3486172556877136, 0.34833407402038574, 0.34808942675590515, 0.34797388315200806, 0.3476569354534149, 0.3475269675254822, 0.34750381112098694, 0.34723716974258423, 0.3470659554004669, 0.3468710482120514]}\n"
          ],
          "name": "stdout"
        }
      ]
    },
    {
      "cell_type": "code",
      "metadata": {
        "colab": {
          "base_uri": "https://localhost:8080/"
        },
        "id": "xOXlIAg8SkSV",
        "outputId": "e5ebd804-bfa8-4c43-999c-ec2c40325a49"
      },
      "source": [
        "model.summary()"
      ],
      "execution_count": null,
      "outputs": [
        {
          "output_type": "stream",
          "text": [
            "Model: \"sequential\"\n",
            "_________________________________________________________________\n",
            "Layer (type)                 Output Shape              Param #   \n",
            "=================================================================\n",
            "conv1d (Conv1D)              (None, None, 60)          360       \n",
            "_________________________________________________________________\n",
            "lstm (LSTM)                  (None, None, 60)          29040     \n",
            "_________________________________________________________________\n",
            "lstm_1 (LSTM)                (None, None, 60)          29040     \n",
            "_________________________________________________________________\n",
            "dense (Dense)                (None, None, 50)          3050      \n",
            "_________________________________________________________________\n",
            "dense_1 (Dense)              (None, None, 25)          1275      \n",
            "_________________________________________________________________\n",
            "dense_2 (Dense)              (None, None, 1)           26        \n",
            "_________________________________________________________________\n",
            "lambda (Lambda)              (None, None, 1)           0         \n",
            "=================================================================\n",
            "Total params: 62,791\n",
            "Trainable params: 62,791\n",
            "Non-trainable params: 0\n",
            "_________________________________________________________________\n"
          ],
          "name": "stdout"
        }
      ]
    },
    {
      "cell_type": "code",
      "metadata": {
        "colab": {
          "base_uri": "https://localhost:8080/",
          "height": 607
        },
        "id": "8EAwTttAniAl",
        "outputId": "58469724-6692-4477-fe4b-538a0901e48c"
      },
      "source": [
        "import matplotlib.image  as mpimg\n",
        "import matplotlib.pyplot as plt\n",
        "\n",
        "mae=history.history['mae']\n",
        "loss=history.history['loss']\n",
        "\n",
        "epochs=range(len(loss)) \n",
        "\n",
        "\n",
        "plt.plot(epochs, mae, 'r')\n",
        "plt.plot(epochs, loss, 'b')\n",
        "plt.title('MAE and Loss-функция')\n",
        "plt.xlabel(\"Эпохи\")\n",
        "plt.ylabel(\"Значение\")\n",
        "plt.legend([\"MAE\", \"Loss-функция\"])\n",
        "\n",
        "plt.figure()\n",
        "\n",
        "epochs_zoom = epochs[20:]\n",
        "mae_zoom = mae[20:]\n",
        "loss_zoom = loss[20:]\n",
        "\n",
        "\n",
        "# Приближенные \n",
        "\n",
        "plt.plot(epochs_zoom, mae_zoom, 'r')\n",
        "plt.plot(epochs_zoom, loss_zoom, 'b')\n",
        "plt.title('MAE and Loss')\n",
        "plt.xlabel(\"Epochs\")\n",
        "plt.ylabel(\"Accuracy\")\n",
        "plt.legend([\"MAE\", \"Loss\"])\n",
        "\n",
        "plt.figure()"
      ],
      "execution_count": null,
      "outputs": [
        {
          "output_type": "execute_result",
          "data": {
            "text/plain": [
              "<Figure size 432x288 with 0 Axes>"
            ]
          },
          "metadata": {
            "tags": []
          },
          "execution_count": 43
        },
        {
          "output_type": "display_data",
          "data": {
            "image/png": "[encoded data removed]",
            "text/plain": [
              "<Figure size 432x288 with 1 Axes>"
            ]
          },
          "metadata": {
            "tags": []
          }
        },
        {
          "output_type": "display_data",
          "data": {
            "image/png": "[encoded data removed]",
            "text/plain": [
              "<Figure size 432x288 with 1 Axes>"
            ]
          },
          "metadata": {
            "tags": []
          }
        },
        {
          "output_type": "display_data",
          "data": {
            "text/plain": [
              "<Figure size 432x288 with 0 Axes>"
            ]
          },
          "metadata": {
            "tags": []
          }
        }
      ]
    },
    {
      "cell_type": "code",
      "metadata": {
        "id": "lE2997TUYfMS"
      },
      "source": [
        "Magnitude=np.reshape(Magnitude,(23412,1,1))\n",
        "model.predict(Magnitude[23385:23415][np.newaxis])"
      ],
      "execution_count": null,
      "outputs": []
    }
  ]
}